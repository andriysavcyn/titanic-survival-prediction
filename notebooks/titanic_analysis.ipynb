{
 "cells": [
  {
   "cell_type": "code",
   "execution_count": 1,
   "id": "2d537d1d-a42d-4950-a274-3f709f263b11",
   "metadata": {},
   "outputs": [],
   "source": [
    "import pandas as pd\n",
    "import numpy as np\n",
    "import matplotlib.pyplot as plt\n",
    "import seaborn as sns\n",
    "\n",
    "# Налаштування для відображення графіків всередині блокнота\n",
    "%matplotlib inline"
   ]
  },
  {
   "cell_type": "code",
   "execution_count": 2,
   "id": "05675c69-1432-45f5-bdc4-b2005712b33f",
   "metadata": {},
   "outputs": [],
   "source": [
    "df_train = pd.read_csv('../data/train.csv')"
   ]
  },
  {
   "cell_type": "code",
   "execution_count": 7,
   "id": "fd438760-5641-4ee7-a857-4990dff11b88",
   "metadata": {},
   "outputs": [
    {
     "name": "stdout",
     "output_type": "stream",
     "text": [
      "Перші 5 рядків даних: \n"
     ]
    },
    {
     "data": {
      "text/html": [
       "<div>\n",
       "<style scoped>\n",
       "    .dataframe tbody tr th:only-of-type {\n",
       "        vertical-align: middle;\n",
       "    }\n",
       "\n",
       "    .dataframe tbody tr th {\n",
       "        vertical-align: top;\n",
       "    }\n",
       "\n",
       "    .dataframe thead th {\n",
       "        text-align: right;\n",
       "    }\n",
       "</style>\n",
       "<table border=\"1\" class=\"dataframe\">\n",
       "  <thead>\n",
       "    <tr style=\"text-align: right;\">\n",
       "      <th></th>\n",
       "      <th>PassengerId</th>\n",
       "      <th>Survived</th>\n",
       "      <th>Pclass</th>\n",
       "      <th>Name</th>\n",
       "      <th>Sex</th>\n",
       "      <th>Age</th>\n",
       "      <th>SibSp</th>\n",
       "      <th>Parch</th>\n",
       "      <th>Ticket</th>\n",
       "      <th>Fare</th>\n",
       "      <th>Cabin</th>\n",
       "      <th>Embarked</th>\n",
       "    </tr>\n",
       "  </thead>\n",
       "  <tbody>\n",
       "    <tr>\n",
       "      <th>0</th>\n",
       "      <td>1</td>\n",
       "      <td>0</td>\n",
       "      <td>3</td>\n",
       "      <td>Braund, Mr. Owen Harris</td>\n",
       "      <td>male</td>\n",
       "      <td>22.0</td>\n",
       "      <td>1</td>\n",
       "      <td>0</td>\n",
       "      <td>A/5 21171</td>\n",
       "      <td>7.2500</td>\n",
       "      <td>NaN</td>\n",
       "      <td>S</td>\n",
       "    </tr>\n",
       "    <tr>\n",
       "      <th>1</th>\n",
       "      <td>2</td>\n",
       "      <td>1</td>\n",
       "      <td>1</td>\n",
       "      <td>Cumings, Mrs. John Bradley (Florence Briggs Th...</td>\n",
       "      <td>female</td>\n",
       "      <td>38.0</td>\n",
       "      <td>1</td>\n",
       "      <td>0</td>\n",
       "      <td>PC 17599</td>\n",
       "      <td>71.2833</td>\n",
       "      <td>C85</td>\n",
       "      <td>C</td>\n",
       "    </tr>\n",
       "    <tr>\n",
       "      <th>2</th>\n",
       "      <td>3</td>\n",
       "      <td>1</td>\n",
       "      <td>3</td>\n",
       "      <td>Heikkinen, Miss. Laina</td>\n",
       "      <td>female</td>\n",
       "      <td>26.0</td>\n",
       "      <td>0</td>\n",
       "      <td>0</td>\n",
       "      <td>STON/O2. 3101282</td>\n",
       "      <td>7.9250</td>\n",
       "      <td>NaN</td>\n",
       "      <td>S</td>\n",
       "    </tr>\n",
       "    <tr>\n",
       "      <th>3</th>\n",
       "      <td>4</td>\n",
       "      <td>1</td>\n",
       "      <td>1</td>\n",
       "      <td>Futrelle, Mrs. Jacques Heath (Lily May Peel)</td>\n",
       "      <td>female</td>\n",
       "      <td>35.0</td>\n",
       "      <td>1</td>\n",
       "      <td>0</td>\n",
       "      <td>113803</td>\n",
       "      <td>53.1000</td>\n",
       "      <td>C123</td>\n",
       "      <td>S</td>\n",
       "    </tr>\n",
       "    <tr>\n",
       "      <th>4</th>\n",
       "      <td>5</td>\n",
       "      <td>0</td>\n",
       "      <td>3</td>\n",
       "      <td>Allen, Mr. William Henry</td>\n",
       "      <td>male</td>\n",
       "      <td>35.0</td>\n",
       "      <td>0</td>\n",
       "      <td>0</td>\n",
       "      <td>373450</td>\n",
       "      <td>8.0500</td>\n",
       "      <td>NaN</td>\n",
       "      <td>S</td>\n",
       "    </tr>\n",
       "  </tbody>\n",
       "</table>\n",
       "</div>"
      ],
      "text/plain": [
       "   PassengerId  Survived  Pclass  \\\n",
       "0            1         0       3   \n",
       "1            2         1       1   \n",
       "2            3         1       3   \n",
       "3            4         1       1   \n",
       "4            5         0       3   \n",
       "\n",
       "                                                Name     Sex   Age  SibSp  \\\n",
       "0                            Braund, Mr. Owen Harris    male  22.0      1   \n",
       "1  Cumings, Mrs. John Bradley (Florence Briggs Th...  female  38.0      1   \n",
       "2                             Heikkinen, Miss. Laina  female  26.0      0   \n",
       "3       Futrelle, Mrs. Jacques Heath (Lily May Peel)  female  35.0      1   \n",
       "4                           Allen, Mr. William Henry    male  35.0      0   \n",
       "\n",
       "   Parch            Ticket     Fare Cabin Embarked  \n",
       "0      0         A/5 21171   7.2500   NaN        S  \n",
       "1      0          PC 17599  71.2833   C85        C  \n",
       "2      0  STON/O2. 3101282   7.9250   NaN        S  \n",
       "3      0            113803  53.1000  C123        S  \n",
       "4      0            373450   8.0500   NaN        S  "
      ]
     },
     "metadata": {},
     "output_type": "display_data"
    },
    {
     "name": "stdout",
     "output_type": "stream",
     "text": [
      "\n",
      "Інформація про дані (типи та пропуски): \n",
      "<class 'pandas.core.frame.DataFrame'>\n",
      "RangeIndex: 891 entries, 0 to 890\n",
      "Data columns (total 12 columns):\n",
      " #   Column       Non-Null Count  Dtype  \n",
      "---  ------       --------------  -----  \n",
      " 0   PassengerId  891 non-null    int64  \n",
      " 1   Survived     891 non-null    int64  \n",
      " 2   Pclass       891 non-null    int64  \n",
      " 3   Name         891 non-null    object \n",
      " 4   Sex          891 non-null    object \n",
      " 5   Age          714 non-null    float64\n",
      " 6   SibSp        891 non-null    int64  \n",
      " 7   Parch        891 non-null    int64  \n",
      " 8   Ticket       891 non-null    object \n",
      " 9   Fare         891 non-null    float64\n",
      " 10  Cabin        204 non-null    object \n",
      " 11  Embarked     889 non-null    object \n",
      "dtypes: float64(2), int64(5), object(5)\n",
      "memory usage: 83.7+ KB\n",
      "\n",
      "Статистика (describe): \n"
     ]
    },
    {
     "data": {
      "text/html": [
       "<div>\n",
       "<style scoped>\n",
       "    .dataframe tbody tr th:only-of-type {\n",
       "        vertical-align: middle;\n",
       "    }\n",
       "\n",
       "    .dataframe tbody tr th {\n",
       "        vertical-align: top;\n",
       "    }\n",
       "\n",
       "    .dataframe thead th {\n",
       "        text-align: right;\n",
       "    }\n",
       "</style>\n",
       "<table border=\"1\" class=\"dataframe\">\n",
       "  <thead>\n",
       "    <tr style=\"text-align: right;\">\n",
       "      <th></th>\n",
       "      <th>PassengerId</th>\n",
       "      <th>Survived</th>\n",
       "      <th>Pclass</th>\n",
       "      <th>Age</th>\n",
       "      <th>SibSp</th>\n",
       "      <th>Parch</th>\n",
       "      <th>Fare</th>\n",
       "    </tr>\n",
       "  </thead>\n",
       "  <tbody>\n",
       "    <tr>\n",
       "      <th>count</th>\n",
       "      <td>891.000000</td>\n",
       "      <td>891.000000</td>\n",
       "      <td>891.000000</td>\n",
       "      <td>714.000000</td>\n",
       "      <td>891.000000</td>\n",
       "      <td>891.000000</td>\n",
       "      <td>891.000000</td>\n",
       "    </tr>\n",
       "    <tr>\n",
       "      <th>mean</th>\n",
       "      <td>446.000000</td>\n",
       "      <td>0.383838</td>\n",
       "      <td>2.308642</td>\n",
       "      <td>29.699118</td>\n",
       "      <td>0.523008</td>\n",
       "      <td>0.381594</td>\n",
       "      <td>32.204208</td>\n",
       "    </tr>\n",
       "    <tr>\n",
       "      <th>std</th>\n",
       "      <td>257.353842</td>\n",
       "      <td>0.486592</td>\n",
       "      <td>0.836071</td>\n",
       "      <td>14.526497</td>\n",
       "      <td>1.102743</td>\n",
       "      <td>0.806057</td>\n",
       "      <td>49.693429</td>\n",
       "    </tr>\n",
       "    <tr>\n",
       "      <th>min</th>\n",
       "      <td>1.000000</td>\n",
       "      <td>0.000000</td>\n",
       "      <td>1.000000</td>\n",
       "      <td>0.420000</td>\n",
       "      <td>0.000000</td>\n",
       "      <td>0.000000</td>\n",
       "      <td>0.000000</td>\n",
       "    </tr>\n",
       "    <tr>\n",
       "      <th>25%</th>\n",
       "      <td>223.500000</td>\n",
       "      <td>0.000000</td>\n",
       "      <td>2.000000</td>\n",
       "      <td>20.125000</td>\n",
       "      <td>0.000000</td>\n",
       "      <td>0.000000</td>\n",
       "      <td>7.910400</td>\n",
       "    </tr>\n",
       "    <tr>\n",
       "      <th>50%</th>\n",
       "      <td>446.000000</td>\n",
       "      <td>0.000000</td>\n",
       "      <td>3.000000</td>\n",
       "      <td>28.000000</td>\n",
       "      <td>0.000000</td>\n",
       "      <td>0.000000</td>\n",
       "      <td>14.454200</td>\n",
       "    </tr>\n",
       "    <tr>\n",
       "      <th>75%</th>\n",
       "      <td>668.500000</td>\n",
       "      <td>1.000000</td>\n",
       "      <td>3.000000</td>\n",
       "      <td>38.000000</td>\n",
       "      <td>1.000000</td>\n",
       "      <td>0.000000</td>\n",
       "      <td>31.000000</td>\n",
       "    </tr>\n",
       "    <tr>\n",
       "      <th>max</th>\n",
       "      <td>891.000000</td>\n",
       "      <td>1.000000</td>\n",
       "      <td>3.000000</td>\n",
       "      <td>80.000000</td>\n",
       "      <td>8.000000</td>\n",
       "      <td>6.000000</td>\n",
       "      <td>512.329200</td>\n",
       "    </tr>\n",
       "  </tbody>\n",
       "</table>\n",
       "</div>"
      ],
      "text/plain": [
       "       PassengerId    Survived      Pclass         Age       SibSp  \\\n",
       "count   891.000000  891.000000  891.000000  714.000000  891.000000   \n",
       "mean    446.000000    0.383838    2.308642   29.699118    0.523008   \n",
       "std     257.353842    0.486592    0.836071   14.526497    1.102743   \n",
       "min       1.000000    0.000000    1.000000    0.420000    0.000000   \n",
       "25%     223.500000    0.000000    2.000000   20.125000    0.000000   \n",
       "50%     446.000000    0.000000    3.000000   28.000000    0.000000   \n",
       "75%     668.500000    1.000000    3.000000   38.000000    1.000000   \n",
       "max     891.000000    1.000000    3.000000   80.000000    8.000000   \n",
       "\n",
       "            Parch        Fare  \n",
       "count  891.000000  891.000000  \n",
       "mean     0.381594   32.204208  \n",
       "std      0.806057   49.693429  \n",
       "min      0.000000    0.000000  \n",
       "25%      0.000000    7.910400  \n",
       "50%      0.000000   14.454200  \n",
       "75%      0.000000   31.000000  \n",
       "max      6.000000  512.329200  "
      ]
     },
     "metadata": {},
     "output_type": "display_data"
    }
   ],
   "source": [
    "print(\"Перші 5 рядків даних: \")\n",
    "display(df_train.head())\n",
    "\n",
    "print(\"\\nІнформація про дані (типи та пропуски): \")\n",
    "df_train.info()\n",
    "\n",
    "print(\"\\nСтатистика (describe): \")\n",
    "display(df_train.describe())"
   ]
  },
  {
   "cell_type": "code",
   "execution_count": 11,
   "id": "858b2c37-9a52-4214-9839-d12dbfd1a311",
   "metadata": {},
   "outputs": [
    {
     "data": {
      "image/png": "[encoded data removed]",
      "text/plain": [
       "<Figure size 500x500 with 1 Axes>"
      ]
     },
     "metadata": {},
     "output_type": "display_data"
    }
   ],
   "source": [
    "\n",
    "sns.set_theme(style=\"whitegrid\")\n",
    "\n",
    "# Створюємо стовпчасту діаграму: Pclass (Клас) vs Survived (Вижив)\n",
    "sns.catplot(x=\"Sex\", y=\"Survived\", data=df_train, kind=\"bar\", palette=\"muted\", hue = \"Sex\", legend = False)\n",
    "plt.title('Відсоток виживання залежно від Статі')\n",
    "plt.show()"
   ]
  },
  {
   "cell_type": "code",
   "execution_count": 12,
   "id": "fe86f629-6df7-426a-9d12-5894e56ac2bf",
   "metadata": {},
   "outputs": [
    {
     "name": "stderr",
     "output_type": "stream",
     "text": [
      "C:\\Users\\User\\AppData\\Local\\Temp\\ipykernel_32992\\3514593182.py:1: FutureWarning: \n",
      "\n",
      "Passing `palette` without assigning `hue` is deprecated and will be removed in v0.14.0. Assign the `x` variable to `hue` and set `legend=False` for the same effect.\n",
      "\n",
      "  sns.catplot(x=\"Pclass\", y=\"Survived\", data=df_train, kind=\"bar\", palette=\"Set2\")\n"
     ]
    },
    {
     "data": {
      "image/png": "[encoded data removed]",
      "text/plain": [
       "<Figure size 500x500 with 1 Axes>"
      ]
     },
     "metadata": {},
     "output_type": "display_data"
    }
   ],
   "source": [
    "sns.catplot(x=\"Pclass\", y=\"Survived\", data=df_train, kind=\"bar\", palette=\"Set2\")\n",
    "plt.title('Відсоток виживання залежно від Класу квитка')\n",
    "plt.show()"
   ]
  },
  {
   "cell_type": "code",
   "execution_count": 16,
   "id": "0057cf83-20fa-41a6-8e9c-f70d5a1de9f3",
   "metadata": {},
   "outputs": [
    {
     "data": {
      "image/png": "[encoded data removed]",
      "text/plain": [
       "<Figure size 1000x500 with 2 Axes>"
      ]
     },
     "metadata": {},
     "output_type": "display_data"
    }
   ],
   "source": [
    "# Створюємо гістограму з накладеним графіком щільності (KDE)\n",
    "# Ми дивимось, як розподілявся вік (Age) для тих, хто вижив (Survived=1) та тих, хто ні (Survived=0)\n",
    "g = sns.FacetGrid(df_train, col = \"Survived\", height = 5)\n",
    "g.map(sns.histplot, 'Age', kde = True, bins = 20)\n",
    "plt.show()"
   ]
  },
  {
   "cell_type": "code",
   "execution_count": 18,
   "id": "5f31c5c2-59f0-450b-b205-4c09af728a0d",
   "metadata": {},
   "outputs": [
    {
     "name": "stdout",
     "output_type": "stream",
     "text": [
      "Непотрібні колонки видалено.\n"
     ]
    }
   ],
   "source": [
    "# Завантажуємо тестові дані\n",
    "df_test = pd.read_csv('../data/test.csv')\n",
    "# Зберігаємо ID пасажирів з тестового набору, вони знадобляться для фінального файлу\n",
    "test_passenger_ids = df_test['PassengerId']\n",
    "# (!!) ВАЖЛИВО: Видаляємо непотрібні колонки\n",
    "# 'PassengerId', 'Name', 'Ticket' - унікальні для кожного і не несуть користі для моделі\n",
    "# 'Cabin' - занадто багато пропусків (понад 77%), як ми бачили в info()\n",
    "df_train = df_train.drop(['PassengerId', 'Name', 'Ticket', 'Cabin'], axis = 1)\n",
    "df_test = df_test.drop(['PassengerId', 'Name', 'Ticket', 'Cabin'], axis = 1)\n",
    "\n",
    "print(\"Непотрібні колонки видалено.\")"
   ]
  },
  {
   "cell_type": "code",
   "execution_count": 22,
   "id": "c09c97a9-2751-4f46-aa49-d96eb452f063",
   "metadata": {},
   "outputs": [
    {
     "name": "stdout",
     "output_type": "stream",
     "text": [
      "Проруски 'Age' заповнено медіаною: 28.0\n",
      "Проруски 'Embarked' заповнено мoдою: S\n",
      "Проруски 'Fare' заповнено медіаною: 14.4542\n"
     ]
    }
   ],
   "source": [
    "# 1. Заповнюємо 'Age' (Вік)\n",
    "# Замість середнього (mean) беремо медіану (50%), вона більш стійка до викидів\n",
    "median_age = df_train['Age'].median()\n",
    "df_train['Age'] = df_train['Age'].fillna(median_age)\n",
    "df_test['Age'] = df_test['Age'].fillna(median_age)\n",
    "print(f\"Проруски 'Age' заповнено медіаною: {median_age}\")\n",
    "\n",
    "# 2. Заповнюємо 'Embarked' (Порт)\n",
    "# Беремо найчастіше значення (моду)\n",
    "mode_embarked = df_train['Embarked'].mode()[0]\n",
    "df_train['Embarked'] = df_train['Embarked'].fillna(mode_embarked)\n",
    "df_test['Embarked'] = df_test['Embarked'].fillna(mode_embarked)\n",
    "print(f\"Проруски 'Embarked' заповнено мoдою: {mode_embarked}\")\n",
    "\n",
    "# 3. Заповнюємо 'Fare' (Ціна квитка) - тільки в тестовому наборі є пропуск\n",
    "median_fare = df_train['Fare'].median()\n",
    "df_train['Fare'] = df_train['Fare'].fillna(median_fare)\n",
    "df_test['Fare'] = df_test['Fare'].fillna(median_fare)\n",
    "print(f\"Проруски 'Fare' заповнено медіаною: {median_fare}\")"
   ]
  },
  {
   "cell_type": "code",
   "execution_count": 23,
   "id": "3479fbe6-fd1d-488f-917b-0670812bb2fc",
   "metadata": {},
   "outputs": [
    {
     "name": "stdout",
     "output_type": "stream",
     "text": [
      "Колонка 'Sex' перетворена на числа.\n",
      "Колонка 'Embarked' перетворена через One-Hot Encoding.\n",
      "\n",
      "Фінальний вигляд даних (перші 5 рядків):\n"
     ]
    },
    {
     "data": {
      "text/html": [
       "<div>\n",
       "<style scoped>\n",
       "    .dataframe tbody tr th:only-of-type {\n",
       "        vertical-align: middle;\n",
       "    }\n",
       "\n",
       "    .dataframe tbody tr th {\n",
       "        vertical-align: top;\n",
       "    }\n",
       "\n",
       "    .dataframe thead th {\n",
       "        text-align: right;\n",
       "    }\n",
       "</style>\n",
       "<table border=\"1\" class=\"dataframe\">\n",
       "  <thead>\n",
       "    <tr style=\"text-align: right;\">\n",
       "      <th></th>\n",
       "      <th>Survived</th>\n",
       "      <th>Pclass</th>\n",
       "      <th>Sex</th>\n",
       "      <th>Age</th>\n",
       "      <th>SibSp</th>\n",
       "      <th>Parch</th>\n",
       "      <th>Fare</th>\n",
       "      <th>Embarked_C</th>\n",
       "      <th>Embarked_Q</th>\n",
       "      <th>Embarked_S</th>\n",
       "    </tr>\n",
       "  </thead>\n",
       "  <tbody>\n",
       "    <tr>\n",
       "      <th>0</th>\n",
       "      <td>0</td>\n",
       "      <td>3</td>\n",
       "      <td>0</td>\n",
       "      <td>22.0</td>\n",
       "      <td>1</td>\n",
       "      <td>0</td>\n",
       "      <td>7.2500</td>\n",
       "      <td>False</td>\n",
       "      <td>False</td>\n",
       "      <td>True</td>\n",
       "    </tr>\n",
       "    <tr>\n",
       "      <th>1</th>\n",
       "      <td>1</td>\n",
       "      <td>1</td>\n",
       "      <td>1</td>\n",
       "      <td>38.0</td>\n",
       "      <td>1</td>\n",
       "      <td>0</td>\n",
       "      <td>71.2833</td>\n",
       "      <td>True</td>\n",
       "      <td>False</td>\n",
       "      <td>False</td>\n",
       "    </tr>\n",
       "    <tr>\n",
       "      <th>2</th>\n",
       "      <td>1</td>\n",
       "      <td>3</td>\n",
       "      <td>1</td>\n",
       "      <td>26.0</td>\n",
       "      <td>0</td>\n",
       "      <td>0</td>\n",
       "      <td>7.9250</td>\n",
       "      <td>False</td>\n",
       "      <td>False</td>\n",
       "      <td>True</td>\n",
       "    </tr>\n",
       "    <tr>\n",
       "      <th>3</th>\n",
       "      <td>1</td>\n",
       "      <td>1</td>\n",
       "      <td>1</td>\n",
       "      <td>35.0</td>\n",
       "      <td>1</td>\n",
       "      <td>0</td>\n",
       "      <td>53.1000</td>\n",
       "      <td>False</td>\n",
       "      <td>False</td>\n",
       "      <td>True</td>\n",
       "    </tr>\n",
       "    <tr>\n",
       "      <th>4</th>\n",
       "      <td>0</td>\n",
       "      <td>3</td>\n",
       "      <td>0</td>\n",
       "      <td>35.0</td>\n",
       "      <td>0</td>\n",
       "      <td>0</td>\n",
       "      <td>8.0500</td>\n",
       "      <td>False</td>\n",
       "      <td>False</td>\n",
       "      <td>True</td>\n",
       "    </tr>\n",
       "  </tbody>\n",
       "</table>\n",
       "</div>"
      ],
      "text/plain": [
       "   Survived  Pclass  Sex   Age  SibSp  Parch     Fare  Embarked_C  Embarked_Q  \\\n",
       "0         0       3    0  22.0      1      0   7.2500       False       False   \n",
       "1         1       1    1  38.0      1      0  71.2833        True       False   \n",
       "2         1       3    1  26.0      0      0   7.9250       False       False   \n",
       "3         1       1    1  35.0      1      0  53.1000       False       False   \n",
       "4         0       3    0  35.0      0      0   8.0500       False       False   \n",
       "\n",
       "   Embarked_S  \n",
       "0        True  \n",
       "1       False  \n",
       "2        True  \n",
       "3        True  \n",
       "4        True  "
      ]
     },
     "metadata": {},
     "output_type": "display_data"
    }
   ],
   "source": [
    "# 1. Перетворюємо 'Sex'\n",
    "# Створюємо словник: 'male' -> 0, 'female' -> 1\n",
    "sex_mapping = {'male': 0, 'female': 1}\n",
    "df_train['Sex'] = df_train['Sex'].map(sex_mapping)\n",
    "df_test['Sex'] = df_test['Sex'].map(sex_mapping)\n",
    "print(\"Колонка 'Sex' перетворена на числа.\")\n",
    "\n",
    "# 2. Перетворюємо 'Embarked'\n",
    "# Використовуємо One-Hot Encoding. Це створить 3 нові колонки: Embarked_S, Embarked_C, Embarked_Q\n",
    "# '1' - якщо пасажир сів у цьому порту, '0' - якщо ні.\n",
    "df_train = pd.get_dummies(df_train, columns = ['Embarked'], prefix = 'Embarked')\n",
    "df_test = pd.get_dummies(df_test, columns = ['Embarked'], prefix = 'Embarked')\n",
    "print(\"Колонка 'Embarked' перетворена через One-Hot Encoding.\")\n",
    "\n",
    "# Поглянемо на фінальний результат\n",
    "print(\"\\nФінальний вигляд даних (перші 5 рядків):\")\n",
    "display(df_train.head())"
   ]
  },
  {
   "cell_type": "code",
   "execution_count": 26,
   "id": "26a5e34a-8c22-4400-b4ae-708b5634880a",
   "metadata": {},
   "outputs": [
    {
     "name": "stdout",
     "output_type": "stream",
     "text": [
      "Ознаки (X):\n"
     ]
    },
    {
     "data": {
      "text/html": [
       "<div>\n",
       "<style scoped>\n",
       "    .dataframe tbody tr th:only-of-type {\n",
       "        vertical-align: middle;\n",
       "    }\n",
       "\n",
       "    .dataframe tbody tr th {\n",
       "        vertical-align: top;\n",
       "    }\n",
       "\n",
       "    .dataframe thead th {\n",
       "        text-align: right;\n",
       "    }\n",
       "</style>\n",
       "<table border=\"1\" class=\"dataframe\">\n",
       "  <thead>\n",
       "    <tr style=\"text-align: right;\">\n",
       "      <th></th>\n",
       "      <th>Pclass</th>\n",
       "      <th>Sex</th>\n",
       "      <th>Age</th>\n",
       "      <th>SibSp</th>\n",
       "      <th>Parch</th>\n",
       "      <th>Fare</th>\n",
       "      <th>Embarked_C</th>\n",
       "      <th>Embarked_Q</th>\n",
       "      <th>Embarked_S</th>\n",
       "    </tr>\n",
       "  </thead>\n",
       "  <tbody>\n",
       "    <tr>\n",
       "      <th>0</th>\n",
       "      <td>3</td>\n",
       "      <td>0</td>\n",
       "      <td>22.0</td>\n",
       "      <td>1</td>\n",
       "      <td>0</td>\n",
       "      <td>7.2500</td>\n",
       "      <td>False</td>\n",
       "      <td>False</td>\n",
       "      <td>True</td>\n",
       "    </tr>\n",
       "    <tr>\n",
       "      <th>1</th>\n",
       "      <td>1</td>\n",
       "      <td>1</td>\n",
       "      <td>38.0</td>\n",
       "      <td>1</td>\n",
       "      <td>0</td>\n",
       "      <td>71.2833</td>\n",
       "      <td>True</td>\n",
       "      <td>False</td>\n",
       "      <td>False</td>\n",
       "    </tr>\n",
       "    <tr>\n",
       "      <th>2</th>\n",
       "      <td>3</td>\n",
       "      <td>1</td>\n",
       "      <td>26.0</td>\n",
       "      <td>0</td>\n",
       "      <td>0</td>\n",
       "      <td>7.9250</td>\n",
       "      <td>False</td>\n",
       "      <td>False</td>\n",
       "      <td>True</td>\n",
       "    </tr>\n",
       "    <tr>\n",
       "      <th>3</th>\n",
       "      <td>1</td>\n",
       "      <td>1</td>\n",
       "      <td>35.0</td>\n",
       "      <td>1</td>\n",
       "      <td>0</td>\n",
       "      <td>53.1000</td>\n",
       "      <td>False</td>\n",
       "      <td>False</td>\n",
       "      <td>True</td>\n",
       "    </tr>\n",
       "    <tr>\n",
       "      <th>4</th>\n",
       "      <td>3</td>\n",
       "      <td>0</td>\n",
       "      <td>35.0</td>\n",
       "      <td>0</td>\n",
       "      <td>0</td>\n",
       "      <td>8.0500</td>\n",
       "      <td>False</td>\n",
       "      <td>False</td>\n",
       "      <td>True</td>\n",
       "    </tr>\n",
       "  </tbody>\n",
       "</table>\n",
       "</div>"
      ],
      "text/plain": [
       "   Pclass  Sex   Age  SibSp  Parch     Fare  Embarked_C  Embarked_Q  \\\n",
       "0       3    0  22.0      1      0   7.2500       False       False   \n",
       "1       1    1  38.0      1      0  71.2833        True       False   \n",
       "2       3    1  26.0      0      0   7.9250       False       False   \n",
       "3       1    1  35.0      1      0  53.1000       False       False   \n",
       "4       3    0  35.0      0      0   8.0500       False       False   \n",
       "\n",
       "   Embarked_S  \n",
       "0        True  \n",
       "1       False  \n",
       "2        True  \n",
       "3        True  \n",
       "4        True  "
      ]
     },
     "metadata": {},
     "output_type": "display_data"
    },
    {
     "name": "stdout",
     "output_type": "stream",
     "text": [
      "\n",
      "Ціль (Y):\n"
     ]
    },
    {
     "data": {
      "text/plain": [
       "0    0\n",
       "1    1\n",
       "2    1\n",
       "3    1\n",
       "4    0\n",
       "Name: Survived, dtype: int64"
      ]
     },
     "metadata": {},
     "output_type": "display_data"
    }
   ],
   "source": [
    "# Імпортуємо все, що потрібно для ML\n",
    "from sklearn.model_selection import train_test_split\n",
    "from sklearn.linear_model import LogisticRegression\n",
    "from sklearn.ensemble import RandomForestClassifier\n",
    "from sklearn.metrics import accuracy_score\n",
    "\n",
    "# Створюємо X (ознаки): це ВСІ колонки з df_train, КРІМ 'Survived'\n",
    "X_full = df_train.drop('Survived', axis = 1)\n",
    "\n",
    "# Створюємо y (ціль): це ТІЛЬКИ колонка 'Survived'\n",
    "Y_full = df_train['Survived']\n",
    "\n",
    "# Використовуємо .head() щоб перевірити, що ми все зробили правильно\n",
    "print(\"Ознаки (X):\")\n",
    "display(X_full.head())\n",
    "\n",
    "print(\"\\nЦіль (Y):\")\n",
    "display(Y_full.head())"
   ]
  },
  {
   "cell_type": "code",
   "execution_count": 29,
   "id": "51533c2b-6c4f-4d64-bccb-d32eee87604d",
   "metadata": {},
   "outputs": [
    {
     "name": "stdout",
     "output_type": "stream",
     "text": [
      "Розмір підручника (X_train): (712, 9)\n",
      "Розмір іспиту (X_val):     (179, 9)\n"
     ]
    }
   ],
   "source": [
    "# Розділяємо наші дані на навчальний \"підручник\" та \"іспит\" (валідаційний набір)\n",
    "# test_size=0.2 означає, що 20% даних піде на \"іспит\", а 80% - на навчання\n",
    "# random_state=42 гарантує, що розділення буде однаковим кожного разу, коли ви запускаєте код\n",
    "\n",
    "X_train, X_val, Y_train, Y_val = train_test_split(X_full, Y_full, test_size = 0.2, random_state = 42)\n",
    "\n",
    "print(f\"Розмір підручника (X_train): {X_train.shape}\")\n",
    "print(f\"Розмір іспиту (X_val):     {X_val.shape}\")"
   ]
  },
  {
   "cell_type": "code",
   "execution_count": 32,
   "id": "0c527fc0-0826-4e49-9b85-59c16cf6fa5a",
   "metadata": {},
   "outputs": [
    {
     "name": "stdout",
     "output_type": "stream",
     "text": [
      "Точність Логістичної Регресії на 'іспиті': 81.01%\n"
     ]
    }
   ],
   "source": [
    "# 1. Ініціалізуємо (створюємо) модель\n",
    "model_logreg = LogisticRegression(max_iter = 1000)\n",
    "\n",
    "# 2. \"Годуємо\" модель підручником (X_train, y_train). Це процес навчання.\n",
    "model_logreg.fit(X_train, Y_train)\n",
    "\n",
    "# 3. Просимо модель зробити прогноз на \"іспиті\" (X_val), який вона ніколи не бачила\n",
    "prediction_logreg = model_logreg.predict(X_val)\n",
    "\n",
    "# 4. Перевіряємо, наскільки її відповіді збігаються з реальними (y_val)\n",
    "accuracy_logreg = accuracy_score(Y_val, prediction_logreg)\n",
    "\n",
    "print(f\"Точність Логістичної Регресії на 'іспиті': {accuracy_logreg * 100:.2f}%\")"
   ]
  },
  {
   "cell_type": "code",
   "execution_count": 36,
   "id": "76455a6f-0a5a-41ba-9a3b-9efc7ff474f2",
   "metadata": {},
   "outputs": [
    {
     "name": "stdout",
     "output_type": "stream",
     "text": [
      "Точність Випадкового Лісу на 'іспиті': 81.01%\n"
     ]
    }
   ],
   "source": [
    "# 1. Ініціалізуємо модель\n",
    "# n_estimators=100 означає, що ми будуємо \"ліс\" зі 100 дерев\n",
    "model_rf = RandomForestClassifier(n_estimators = 100, random_state = 42)\n",
    "\n",
    "# 2. Навчаємо на тому ж \"підручнику\"\n",
    "model_rf.fit(X_train, Y_train)\n",
    "\n",
    "# 3. Робимо прогноз на тому ж \"іспиті\"\n",
    "predictions_rf = model_rf.predict(X_val)\n",
    "\n",
    "# 4. Перевіряємо точність\n",
    "accuracy_rf = accuracy_score(Y_val, predictions_rf)\n",
    "\n",
    "print(f\"Точність Випадкового Лісу на 'іспиті': {accuracy_rf * 100:.2f}%\")"
   ]
  },
  {
   "cell_type": "code",
   "execution_count": 39,
   "id": "4f212b0e-2d20-4a86-a89e-aa8830bfadbc",
   "metadata": {},
   "outputs": [
    {
     "name": "stdout",
     "output_type": "stream",
     "text": [
      "Фінальні прогнози для тестового набору готові.\n"
     ]
    }
   ],
   "source": [
    "# Ми обрали Випадковий Ліс як нашу найкращу модель.\n",
    "# Тепер навчимо її на ВСІХ тренувальних даних (підручник + іспит), щоб дати їй максимум знань\n",
    "final_model = RandomForestClassifier(n_estimators = 100, random_state = 42)\n",
    "final_model.fit(X_full, Y_full)\n",
    "# Тепер робимо прогноз для тих пасажирів з test.csv, яких модель ніколи не бачила.\n",
    "# (Ми вже підготували df_test на кроці 4)\n",
    "final_predictions = final_model.predict(df_test)\n",
    "\n",
    "print(\"Фінальні прогнози для тестового набору готові.\")"
   ]
  },
  {
   "cell_type": "code",
   "execution_count": 44,
   "id": "915d6d5f-976d-4b1c-add6-b95a0bf5f4eb",
   "metadata": {},
   "outputs": [
    {
     "name": "stdout",
     "output_type": "stream",
     "text": [
      "Файл submission.csv успішно створено у папці 'results'!\n"
     ]
    },
    {
     "data": {
      "text/html": [
       "<div>\n",
       "<style scoped>\n",
       "    .dataframe tbody tr th:only-of-type {\n",
       "        vertical-align: middle;\n",
       "    }\n",
       "\n",
       "    .dataframe tbody tr th {\n",
       "        vertical-align: top;\n",
       "    }\n",
       "\n",
       "    .dataframe thead th {\n",
       "        text-align: right;\n",
       "    }\n",
       "</style>\n",
       "<table border=\"1\" class=\"dataframe\">\n",
       "  <thead>\n",
       "    <tr style=\"text-align: right;\">\n",
       "      <th></th>\n",
       "      <th>PassengerId</th>\n",
       "      <th>Survived</th>\n",
       "    </tr>\n",
       "  </thead>\n",
       "  <tbody>\n",
       "    <tr>\n",
       "      <th>0</th>\n",
       "      <td>892</td>\n",
       "      <td>0</td>\n",
       "    </tr>\n",
       "    <tr>\n",
       "      <th>1</th>\n",
       "      <td>893</td>\n",
       "      <td>0</td>\n",
       "    </tr>\n",
       "    <tr>\n",
       "      <th>2</th>\n",
       "      <td>894</td>\n",
       "      <td>0</td>\n",
       "    </tr>\n",
       "    <tr>\n",
       "      <th>3</th>\n",
       "      <td>895</td>\n",
       "      <td>1</td>\n",
       "    </tr>\n",
       "    <tr>\n",
       "      <th>4</th>\n",
       "      <td>896</td>\n",
       "      <td>1</td>\n",
       "    </tr>\n",
       "  </tbody>\n",
       "</table>\n",
       "</div>"
      ],
      "text/plain": [
       "   PassengerId  Survived\n",
       "0          892         0\n",
       "1          893         0\n",
       "2          894         0\n",
       "3          895         1\n",
       "4          896         1"
      ]
     },
     "metadata": {},
     "output_type": "display_data"
    }
   ],
   "source": [
    "# Створюємо нову таблицю (DataFrame) для результату\n",
    "# test_passenger_ids - ми зберегли цей список на кроці 4 (Комірка 7)\n",
    "submission = pd.DataFrame({\n",
    "    'PassengerId': test_passenger_ids,\n",
    "    'Survived': final_predictions\n",
    "})\n",
    "# Зберігаємо файл у папку 'results/'\n",
    "# index=False ВАЖЛИВО: щоб pandas не додав свій власний стовпець з індексами\n",
    "submission.to_csv('../result/genger_submission.csv', index=False)\n",
    "\n",
    "print(\"Файл submission.csv успішно створено у папці 'results'!\")\n",
    "display(submission.head())"
   ]
  },
  {
   "cell_type": "code",
   "execution_count": null,
   "id": "33ec3bca-cd5c-4fef-b788-8ddf4a2f3ae6",
   "metadata": {},
   "outputs": [],
   "source": []
  }
 ],
 "metadata": {
  "kernelspec": {
   "display_name": "Python 3 (ipykernel)",
   "language": "python",
   "name": "python3"
  },
  "language_info": {
   "codemirror_mode": {
    "name": "ipython",
    "version": 3
   },
   "file_extension": ".py",
   "mimetype": "text/x-python",
   "name": "python",
   "nbconvert_exporter": "python",
   "pygments_lexer": "ipython3",
   "version": "3.13.1"
  }
 },
 "nbformat": 4,
 "nbformat_minor": 5
}
